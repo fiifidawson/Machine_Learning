{
 "cells": [
  {
   "cell_type": "markdown",
   "metadata": {},
   "source": [
    "# Semantic Search Function"
   ]
  },
  {
   "cell_type": "markdown",
   "metadata": {},
   "source": [
    "#### Imports"
   ]
  },
  {
   "cell_type": "code",
   "execution_count": 3,
   "metadata": {},
   "outputs": [],
   "source": [
    "import polars as pl\n",
    "import gradio as gr\n",
    "from sklearn.metrics import DistanceMetric\n",
    "import numpy as np\n",
    "from sentence_transformers import SentenceTransformer"
   ]
  },
  {
   "cell_type": "markdown",
   "metadata": {},
   "source": [
    "#### Load data, model and metric"
   ]
  },
  {
   "cell_type": "code",
   "execution_count": 4,
   "metadata": {},
   "outputs": [
    {
     "name": "stdout",
     "output_type": "stream",
     "text": [
      "CPU times: total: 0 ns\n",
      "Wall time: 34 ms\n"
     ]
    }
   ],
   "source": [
    "%time df = pl.scan_parquet('data/video-index.parquet')"
   ]
  },
  {
   "cell_type": "code",
   "execution_count": 5,
   "metadata": {},
   "outputs": [
    {
     "name": "stderr",
     "output_type": "stream",
     "text": [
      "C:\\Users\\adlercohen\\AppData\\Roaming\\Python\\Python311\\site-packages\\huggingface_hub\\file_download.py:1132: FutureWarning: `resume_download` is deprecated and will be removed in version 1.0.0. Downloads always resume when possible. If you want to force a new download, use `force_download=True`.\n",
      "  warnings.warn(\n"
     ]
    },
    {
     "name": "stdout",
     "output_type": "stream",
     "text": [
      "CPU times: total: 578 ms\n",
      "Wall time: 7.41 s\n"
     ]
    }
   ],
   "source": [
    "model_name = 'all-MiniLM-L6-v2'\n",
    "%time model = SentenceTransformer(model_name)"
   ]
  },
  {
   "cell_type": "code",
   "execution_count": 6,
   "metadata": {},
   "outputs": [
    {
     "name": "stdout",
     "output_type": "stream",
     "text": [
      "CPU times: total: 0 ns\n",
      "Wall time: 1.01 ms\n"
     ]
    }
   ],
   "source": [
    "dist_name = 'manhattan'\n",
    "%time dist = DistanceMetric.get_metric(dist_name)"
   ]
  },
  {
   "cell_type": "markdown",
   "metadata": {},
   "source": [
    "#### Search function"
   ]
  },
  {
   "cell_type": "code",
   "execution_count": 8,
   "metadata": {},
   "outputs": [],
   "source": [
    "def returnSearchResults(quert: str, index: pl.lazyframe.frame.LazyFrame) -> np.array:\n",
    "    \"\"\"\n",
    "        Function to return indexes of top search results\n",
    "    \"\"\"\n",
    "\n",
    "    # embed query\n",
    "    query_embedding = model.encode(query).reshape(1, -1)\n",
    "\n",
    "    # compute distances between query and titles/transcripts\n",
    "    dist_arr = dist.pairwise(df.select(df.columns[4:388]).collect(), query_embedding) + dist.pairwise(df.select(df.columns[388:]).collect(), query_embedding)\n",
    "\n",
    "    # search parameters \n",
    "    threshold = 400 # eye balled threshold for manhatten distance\n",
    "    top_k = 5\n",
    "\n",
    "    # evaluate videos close to query based on threshold\n",
    "    idx_below_threshold = np.argwhere(dist_arr.flatten()<threshold).flatten()\n",
    "\n",
    "    # keep top k closest videos\n",
    "    idx_sorted = np.argsort(dist_arr[idx_below_threshold], axis=0).flatten()\n",
    "\n",
    "    # return indexes of search results\n",
    "    return idx_below_threshold[idx_sorted][:top_k]"
   ]
  },
  {
   "cell_type": "code",
   "execution_count": 9,
   "metadata": {},
   "outputs": [
    {
     "name": "stdout",
     "output_type": "stream",
     "text": [
      "shape: (5, 2)\n",
      "┌─────────────┬───────────────────────────────────┐\n",
      "│ video_id    ┆ title                             │\n",
      "│ ---         ┆ ---                               │\n",
      "│ str         ┆ str                               │\n",
      "╞═════════════╪═══════════════════════════════════╡\n",
      "│ ytmK_ErTWss ┆ LLMs EXPLAINED in 60 seconds #ai  │\n",
      "│ ZLbVdvOoTKM ┆ How to Build an LLM from Scratch… │\n",
      "│ Ylz779Op9Pw ┆ How to Improve LLMs with RAG (Ov… │\n",
      "│ tFHeUSJAYbE ┆ A Practical Introduction to Larg… │\n",
      "│ eC6Hd1hFvos ┆ Fine-tuning Large Language Model… │\n",
      "└─────────────┴───────────────────────────────────┘\n"
     ]
    }
   ],
   "source": [
    "query = \"LLM\"\n",
    "idx_result = returnSearchResults(query, df)\n",
    "\n",
    "print(df.select(['video_id', 'title']).collect()[idx_result])"
   ]
  },
  {
   "cell_type": "code",
   "execution_count": 10,
   "metadata": {},
   "outputs": [
    {
     "data": {
      "text/plain": [
       "{'title': ['LLMs EXPLAINED in 60 seconds #ai',\n",
       "  'How to Build an LLM from Scratch | An Overview',\n",
       "  'How to Improve LLMs with RAG (Overview + Python Code)',\n",
       "  'A Practical Introduction to Large Language Models (LLMs)',\n",
       "  'Fine-tuning Large Language Models (LLMs) | w/ Example Code'],\n",
       " 'video_id': ['ytmK_ErTWss',\n",
       "  'ZLbVdvOoTKM',\n",
       "  'Ylz779Op9Pw',\n",
       "  'tFHeUSJAYbE',\n",
       "  'eC6Hd1hFvos']}"
      ]
     },
     "execution_count": 10,
     "metadata": {},
     "output_type": "execute_result"
    }
   ],
   "source": [
    "df.select(['title', 'video_id']).collect()[idx_result].to_dict(as_series=False)"
   ]
  },
  {
   "cell_type": "markdown",
   "metadata": {},
   "source": [
    "#### Interface"
   ]
  },
  {
   "cell_type": "code",
   "execution_count": 11,
   "metadata": {},
   "outputs": [],
   "source": [
    "def pseudoSearchAPI(query: str):\n",
    "\n",
    "    # return top 5 search results\n",
    "    idx_result = returnSearchResults(query, df)\n",
    "    response = df.select(['title', 'video_id']).collect()[idx_result].to_dict(as_series=False)\n",
    "\n",
    "    return response"
   ]
  },
  {
   "cell_type": "code",
   "execution_count": 12,
   "metadata": {},
   "outputs": [],
   "source": [
    "def formatResultText(title: str, video_id: str):\n",
    "\n",
    "    text = markdown_text = f\"\"\"<br> <br>\n",
    "# {title}<br>\n",
    "    \n",
    "🔗 [Video Link](https://youtu.be/{video_id})\"\"\"\n",
    "\n",
    "    return text\n"
   ]
  },
  {
   "cell_type": "code",
   "execution_count": 14,
   "metadata": {},
   "outputs": [],
   "source": [
    "def formatVideoEmbed(video_id: str):\n",
    "     # other options\n",
    "    # embed = '<iframe width=\"640\" height=\"360\" src=\"https://img.youtube.com/vi/'+ video_id +'/0.jpg\" </iframe>'\n",
    "    # embed = '<a href=\"https://youtu.be/'+ video_id +'\"> <img src=\"https://img.youtube.com/vi/'+ video_id +'/0.jpg\" style=\"width:576;height:324;\"></a>'\n",
    "    # embed = '<a href=\"www.youtube.com/watch?v='+ video_id +'\"> <img src=\"https://img.youtube.com/vi/'+ video_id +'/0.jpg\" style=\"width:576;height:324;\"></a>'\n",
    "    return '<iframe width=\"576\" height\"324\" src=\"https://www.youtube.com/embed/\"'+ video_id + '></iframe>'\n"
   ]
  },
  {
   "cell_type": "code",
   "execution_count": 13,
   "metadata": {},
   "outputs": [],
   "source": [
    "def searchResults(query):\n",
    "    # pseudo API call\n",
    "    response = pseudoSearchAPI(query)\n",
    "\n",
    "    # Format search results\n",
    "\n",
    "    # initialize list of outputs\n",
    "    output_list = []\n",
    "\n",
    "    # compute number of null search results (out of 5)\n",
    "    num_empty_results = 5-len(response['title'])\n",
    "\n",
    "    # display search results\n",
    "    for i in range(len(response['title'])):\n",
    "        video_id = response['video_id'][i]\n",
    "        title = response['title'][i]\n",
    "\n",
    "        embed = gr.HTML(value= formatVideoEmbed(video_id), visible=True)\n",
    "        text = gr.Markdown(value= formatResultText(title, video_id), visible=True)\n",
    "\n",
    "        output_list.append(embed)\n",
    "        output_list.append(text)\n",
    "\n",
    "    # make null search reslut slots invisible\n",
    "    for i in range(num_empty_results):\n",
    "\n",
    "        # if no search results display \"No results.\" text\n",
    "        if num_empty_results==5 and i==0:\n",
    "            embed = gr.HTML(visible=False)\n",
    "            text = gr.Markdown(value= \"No results. Try rephrasing your query.\", visible=True)\n",
    "\n",
    "            output_list.append(embed)\n",
    "            output_list.append(text)\n",
    "            continue\n",
    "        \n",
    "        embed = gr.HTML(visible=False)\n",
    "        text = gr.Markdown(visible=False)\n",
    "\n",
    "        output_list.append(embed)\n",
    "        output_list.append(text)\n",
    "\n",
    "    return output_list"
   ]
  },
  {
   "cell_type": "markdown",
   "metadata": {},
   "source": [
    "#### Demo"
   ]
  },
  {
   "cell_type": "code",
   "execution_count": 15,
   "metadata": {},
   "outputs": [
    {
     "name": "stdout",
     "output_type": "stream",
     "text": [
      "Running on local URL:  http://127.0.0.1:7860\n",
      "\n",
      "To create a public link, set `share=True` in `launch()`.\n"
     ]
    },
    {
     "data": {
      "text/html": [
       "<div><iframe src=\"http://127.0.0.1:7860/\" width=\"100%\" height=\"500\" allow=\"autoplay; camera; microphone; clipboard-read; clipboard-write;\" frameborder=\"0\" allowfullscreen></iframe></div>"
      ],
      "text/plain": [
       "<IPython.core.display.HTML object>"
      ]
     },
     "metadata": {},
     "output_type": "display_data"
    },
    {
     "data": {
      "text/plain": []
     },
     "execution_count": 15,
     "metadata": {},
     "output_type": "execute_result"
    }
   ],
   "source": [
    "output_list = []\n",
    "\n",
    "with gr.Blocks() as demo:\n",
    "    gr.Markdown(\"# Youtube Search\")\n",
    "\n",
    "    with gr.Row():\n",
    "        inp = gr.Textbox(placeholder=\"What are you looking for?\", label=\"Query\", scale=3)\n",
    "        btn = gr.Button(\"Search\")\n",
    "        btn.click(fn=searchResults, inputs=inp, outputs=output_list)\n",
    "\n",
    "    for i in range(5):\n",
    "        with gr.Row():\n",
    "            output_list.append(gr.HTML())\n",
    "            output_list.append(gr.Markdown())\n",
    "\n",
    "    inp.submit(fn=searchResults, inputs=inp, outputs=output_list)\n",
    "\n",
    "demo.launch()"
   ]
  }
 ],
 "metadata": {
  "kernelspec": {
   "display_name": "base",
   "language": "python",
   "name": "python3"
  },
  "language_info": {
   "codemirror_mode": {
    "name": "ipython",
    "version": 3
   },
   "file_extension": ".py",
   "mimetype": "text/x-python",
   "name": "python",
   "nbconvert_exporter": "python",
   "pygments_lexer": "ipython3",
   "version": "3.11.7"
  }
 },
 "nbformat": 4,
 "nbformat_minor": 2
}
