{
 "cells": [
  {
   "cell_type": "markdown",
   "id": "b1ee1982-4cef-4acd-965c-cc602e761ea9",
   "metadata": {},
   "source": [
    "## Test API"
   ]
  },
  {
   "cell_type": "markdown",
   "id": "678fb83b-5481-4634-8dc1-5d6f454f4b52",
   "metadata": {},
   "source": [
    "### Imports"
   ]
  },
  {
   "cell_type": "code",
   "execution_count": 1,
   "id": "b459c015-e78a-4b04-8c1e-e134a3a4978d",
   "metadata": {},
   "outputs": [],
   "source": [
    "import requests\n",
    "import json"
   ]
  },
  {
   "cell_type": "markdown",
   "id": "6cc00778-8282-45ab-82a0-babd2fd33b91",
   "metadata": {},
   "source": [
    "### Local API"
   ]
  },
  {
   "cell_type": "code",
   "execution_count": 2,
   "id": "2eaba081-2f35-45ba-a691-2900f1d775d1",
   "metadata": {},
   "outputs": [],
   "source": [
    "url = 'http://127.0.0.1:8000/search'\n",
    "query = \"text embeddings explained\""
   ]
  },
  {
   "cell_type": "code",
   "execution_count": null,
   "id": "c353342c-a93c-4b12-be66-82b046093086",
   "metadata": {},
   "outputs": [],
   "source": [
    "# response = request.get(url + query)\n",
    "params = {\"query\": query}\n",
    "%time response = requests.get(url, params=params)"
   ]
  },
  {
   "cell_type": "code",
   "execution_count": 4,
   "id": "c02028b1-18e6-440a-99eb-007201a2ff33",
   "metadata": {},
   "outputs": [
    {
     "data": {
      "text/plain": [
       "['Text Embeddings, Classification, and Semantic Search (w/ Python Code)',\n",
       " 'A Practical Introduction to Large Language Models (LLMs)',\n",
       " 'LLMs EXPLAINED in 60 seconds #ai',\n",
       " 'The Hugging Face Transformers Library | Example Code + Chatbot UI with Gradio',\n",
       " 'How to Improve LLMs with RAG (Overview + Python Code)']"
      ]
     },
     "execution_count": 4,
     "metadata": {},
     "output_type": "execute_result"
    }
   ],
   "source": [
    "json.loads(response.text)['title']"
   ]
  },
  {
   "cell_type": "markdown",
   "id": "2a2fc919-86ff-4019-9d58-3f525742df12",
   "metadata": {},
   "source": [
    "### (Local) Docker API"
   ]
  },
  {
   "cell_type": "code",
   "execution_count": null,
   "id": "5a7167bb-a843-4eb8-8deb-c772f7f8a78f",
   "metadata": {},
   "outputs": [],
   "source": [
    "url = ''\n",
    "query = \"\""
   ]
  },
  {
   "cell_type": "code",
   "execution_count": null,
   "id": "5accedfa-6f6c-48bb-891c-07a9627fa39b",
   "metadata": {},
   "outputs": [],
   "source": [
    "# response = request.get(url + query)\n",
    "params = {\"query\": query}\n",
    "%time response = requests.get(url, params=params)"
   ]
  },
  {
   "cell_type": "code",
   "execution_count": null,
   "id": "e4ec1a45-0cd0-4f1e-9d0e-981db944def5",
   "metadata": {},
   "outputs": [],
   "source": [
    "json.loads(response.text)['title']"
   ]
  },
  {
   "cell_type": "code",
   "execution_count": null,
   "id": "e47bf126-8475-46e3-b755-9a92e88fbad1",
   "metadata": {},
   "outputs": [],
   "source": [
    "requests.get('http://0.0.0.0:80/info').text"
   ]
  }
 ],
 "metadata": {
  "kernelspec": {
   "display_name": "Python 3 (ipykernel)",
   "language": "python",
   "name": "python3"
  },
  "language_info": {
   "codemirror_mode": {
    "name": "ipython",
    "version": 3
   },
   "file_extension": ".py",
   "mimetype": "text/x-python",
   "name": "python",
   "nbconvert_exporter": "python",
   "pygments_lexer": "ipython3",
   "version": "3.11.7"
  }
 },
 "nbformat": 4,
 "nbformat_minor": 5
}
