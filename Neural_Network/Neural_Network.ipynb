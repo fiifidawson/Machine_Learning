{
  "nbformat": 4,
  "nbformat_minor": 0,
  "metadata": {
    "colab": {
      "provenance": [],
      "mount_file_id": "1JvjPmqzLDn1EkCVllDFc3Kxcj9K5cubV",
      "authorship_tag": "ABX9TyNE5HLgmFkPC1noMP8Fwubm",
      "include_colab_link": true
    },
    "kernelspec": {
      "name": "python3",
      "display_name": "Python 3"
    },
    "language_info": {
      "name": "python"
    }
  },
  "cells": [
    {
      "cell_type": "markdown",
      "metadata": {
        "id": "view-in-github",
        "colab_type": "text"
      },
      "source": [
        "<a href=\"https://colab.research.google.com/github/fiifidawson/Machine_Learning/blob/main/Neural_Network.ipynb\" target=\"_parent\"><img src=\"https://colab.research.google.com/assets/colab-badge.svg\" alt=\"Open In Colab\"/></a>"
      ]
    },
    {
      "cell_type": "markdown",
      "source": [
        "## Neural Network\n",
        "A basic implementation of a 2-Layer Neural Network"
      ],
      "metadata": {
        "id": "A0Qyo3-o1Mhs"
      }
    },
    {
      "cell_type": "code",
      "source": [
        "# Import libraries\n",
        "import numpy as np\n",
        "import pandas as pd\n",
        "import matplotlib.pyplot as plt"
      ],
      "metadata": {
        "id": "mXVfavCW1b6b"
      },
      "execution_count": 9,
      "outputs": []
    },
    {
      "cell_type": "code",
      "source": [
        "# Import data\n",
        "data = pd.read_csv('drive/MyDrive/Colab_Data/Neural_Network_2-L_MNIST/train.csv')"
      ],
      "metadata": {
        "id": "7zl4muIZKpKK"
      },
      "execution_count": 10,
      "outputs": []
    },
    {
      "cell_type": "code",
      "source": [
        "data.head()"
      ],
      "metadata": {
        "colab": {
          "base_uri": "https://localhost:8080/",
          "height": 255
        },
        "id": "YvIrYwd5Lamy",
        "outputId": "52ac7b24-4fcd-44d8-a35b-11f99923cd9b"
      },
      "execution_count": 11,
      "outputs": [
        {
          "output_type": "execute_result",
          "data": {
            "text/plain": [
              "   label  pixel0  pixel1  pixel2  pixel3  pixel4  pixel5  pixel6  pixel7  \\\n",
              "0      1       0       0       0       0       0       0       0       0   \n",
              "1      0       0       0       0       0       0       0       0       0   \n",
              "2      1       0       0       0       0       0       0       0       0   \n",
              "3      4       0       0       0       0       0       0       0       0   \n",
              "4      0       0       0       0       0       0       0       0       0   \n",
              "\n",
              "   pixel8  ...  pixel774  pixel775  pixel776  pixel777  pixel778  pixel779  \\\n",
              "0       0  ...         0         0         0         0         0         0   \n",
              "1       0  ...         0         0         0         0         0         0   \n",
              "2       0  ...         0         0         0         0         0         0   \n",
              "3       0  ...         0         0         0         0         0         0   \n",
              "4       0  ...         0         0         0         0         0         0   \n",
              "\n",
              "   pixel780  pixel781  pixel782  pixel783  \n",
              "0         0         0         0         0  \n",
              "1         0         0         0         0  \n",
              "2         0         0         0         0  \n",
              "3         0         0         0         0  \n",
              "4         0         0         0         0  \n",
              "\n",
              "[5 rows x 785 columns]"
            ],
            "text/html": [
              "\n",
              "  <div id=\"df-ac78ec1f-8970-454f-aec3-ad4cc4b61473\" class=\"colab-df-container\">\n",
              "    <div>\n",
              "<style scoped>\n",
              "    .dataframe tbody tr th:only-of-type {\n",
              "        vertical-align: middle;\n",
              "    }\n",
              "\n",
              "    .dataframe tbody tr th {\n",
              "        vertical-align: top;\n",
              "    }\n",
              "\n",
              "    .dataframe thead th {\n",
              "        text-align: right;\n",
              "    }\n",
              "</style>\n",
              "<table border=\"1\" class=\"dataframe\">\n",
              "  <thead>\n",
              "    <tr style=\"text-align: right;\">\n",
              "      <th></th>\n",
              "      <th>label</th>\n",
              "      <th>pixel0</th>\n",
              "      <th>pixel1</th>\n",
              "      <th>pixel2</th>\n",
              "      <th>pixel3</th>\n",
              "      <th>pixel4</th>\n",
              "      <th>pixel5</th>\n",
              "      <th>pixel6</th>\n",
              "      <th>pixel7</th>\n",
              "      <th>pixel8</th>\n",
              "      <th>...</th>\n",
              "      <th>pixel774</th>\n",
              "      <th>pixel775</th>\n",
              "      <th>pixel776</th>\n",
              "      <th>pixel777</th>\n",
              "      <th>pixel778</th>\n",
              "      <th>pixel779</th>\n",
              "      <th>pixel780</th>\n",
              "      <th>pixel781</th>\n",
              "      <th>pixel782</th>\n",
              "      <th>pixel783</th>\n",
              "    </tr>\n",
              "  </thead>\n",
              "  <tbody>\n",
              "    <tr>\n",
              "      <th>0</th>\n",
              "      <td>1</td>\n",
              "      <td>0</td>\n",
              "      <td>0</td>\n",
              "      <td>0</td>\n",
              "      <td>0</td>\n",
              "      <td>0</td>\n",
              "      <td>0</td>\n",
              "      <td>0</td>\n",
              "      <td>0</td>\n",
              "      <td>0</td>\n",
              "      <td>...</td>\n",
              "      <td>0</td>\n",
              "      <td>0</td>\n",
              "      <td>0</td>\n",
              "      <td>0</td>\n",
              "      <td>0</td>\n",
              "      <td>0</td>\n",
              "      <td>0</td>\n",
              "      <td>0</td>\n",
              "      <td>0</td>\n",
              "      <td>0</td>\n",
              "    </tr>\n",
              "    <tr>\n",
              "      <th>1</th>\n",
              "      <td>0</td>\n",
              "      <td>0</td>\n",
              "      <td>0</td>\n",
              "      <td>0</td>\n",
              "      <td>0</td>\n",
              "      <td>0</td>\n",
              "      <td>0</td>\n",
              "      <td>0</td>\n",
              "      <td>0</td>\n",
              "      <td>0</td>\n",
              "      <td>...</td>\n",
              "      <td>0</td>\n",
              "      <td>0</td>\n",
              "      <td>0</td>\n",
              "      <td>0</td>\n",
              "      <td>0</td>\n",
              "      <td>0</td>\n",
              "      <td>0</td>\n",
              "      <td>0</td>\n",
              "      <td>0</td>\n",
              "      <td>0</td>\n",
              "    </tr>\n",
              "    <tr>\n",
              "      <th>2</th>\n",
              "      <td>1</td>\n",
              "      <td>0</td>\n",
              "      <td>0</td>\n",
              "      <td>0</td>\n",
              "      <td>0</td>\n",
              "      <td>0</td>\n",
              "      <td>0</td>\n",
              "      <td>0</td>\n",
              "      <td>0</td>\n",
              "      <td>0</td>\n",
              "      <td>...</td>\n",
              "      <td>0</td>\n",
              "      <td>0</td>\n",
              "      <td>0</td>\n",
              "      <td>0</td>\n",
              "      <td>0</td>\n",
              "      <td>0</td>\n",
              "      <td>0</td>\n",
              "      <td>0</td>\n",
              "      <td>0</td>\n",
              "      <td>0</td>\n",
              "    </tr>\n",
              "    <tr>\n",
              "      <th>3</th>\n",
              "      <td>4</td>\n",
              "      <td>0</td>\n",
              "      <td>0</td>\n",
              "      <td>0</td>\n",
              "      <td>0</td>\n",
              "      <td>0</td>\n",
              "      <td>0</td>\n",
              "      <td>0</td>\n",
              "      <td>0</td>\n",
              "      <td>0</td>\n",
              "      <td>...</td>\n",
              "      <td>0</td>\n",
              "      <td>0</td>\n",
              "      <td>0</td>\n",
              "      <td>0</td>\n",
              "      <td>0</td>\n",
              "      <td>0</td>\n",
              "      <td>0</td>\n",
              "      <td>0</td>\n",
              "      <td>0</td>\n",
              "      <td>0</td>\n",
              "    </tr>\n",
              "    <tr>\n",
              "      <th>4</th>\n",
              "      <td>0</td>\n",
              "      <td>0</td>\n",
              "      <td>0</td>\n",
              "      <td>0</td>\n",
              "      <td>0</td>\n",
              "      <td>0</td>\n",
              "      <td>0</td>\n",
              "      <td>0</td>\n",
              "      <td>0</td>\n",
              "      <td>0</td>\n",
              "      <td>...</td>\n",
              "      <td>0</td>\n",
              "      <td>0</td>\n",
              "      <td>0</td>\n",
              "      <td>0</td>\n",
              "      <td>0</td>\n",
              "      <td>0</td>\n",
              "      <td>0</td>\n",
              "      <td>0</td>\n",
              "      <td>0</td>\n",
              "      <td>0</td>\n",
              "    </tr>\n",
              "  </tbody>\n",
              "</table>\n",
              "<p>5 rows × 785 columns</p>\n",
              "</div>\n",
              "    <div class=\"colab-df-buttons\">\n",
              "\n",
              "  <div class=\"colab-df-container\">\n",
              "    <button class=\"colab-df-convert\" onclick=\"convertToInteractive('df-ac78ec1f-8970-454f-aec3-ad4cc4b61473')\"\n",
              "            title=\"Convert this dataframe to an interactive table.\"\n",
              "            style=\"display:none;\">\n",
              "\n",
              "  <svg xmlns=\"http://www.w3.org/2000/svg\" height=\"24px\" viewBox=\"0 -960 960 960\">\n",
              "    <path d=\"M120-120v-720h720v720H120Zm60-500h600v-160H180v160Zm220 220h160v-160H400v160Zm0 220h160v-160H400v160ZM180-400h160v-160H180v160Zm440 0h160v-160H620v160ZM180-180h160v-160H180v160Zm440 0h160v-160H620v160Z\"/>\n",
              "  </svg>\n",
              "    </button>\n",
              "\n",
              "  <style>\n",
              "    .colab-df-container {\n",
              "      display:flex;\n",
              "      gap: 12px;\n",
              "    }\n",
              "\n",
              "    .colab-df-convert {\n",
              "      background-color: #E8F0FE;\n",
              "      border: none;\n",
              "      border-radius: 50%;\n",
              "      cursor: pointer;\n",
              "      display: none;\n",
              "      fill: #1967D2;\n",
              "      height: 32px;\n",
              "      padding: 0 0 0 0;\n",
              "      width: 32px;\n",
              "    }\n",
              "\n",
              "    .colab-df-convert:hover {\n",
              "      background-color: #E2EBFA;\n",
              "      box-shadow: 0px 1px 2px rgba(60, 64, 67, 0.3), 0px 1px 3px 1px rgba(60, 64, 67, 0.15);\n",
              "      fill: #174EA6;\n",
              "    }\n",
              "\n",
              "    .colab-df-buttons div {\n",
              "      margin-bottom: 4px;\n",
              "    }\n",
              "\n",
              "    [theme=dark] .colab-df-convert {\n",
              "      background-color: #3B4455;\n",
              "      fill: #D2E3FC;\n",
              "    }\n",
              "\n",
              "    [theme=dark] .colab-df-convert:hover {\n",
              "      background-color: #434B5C;\n",
              "      box-shadow: 0px 1px 3px 1px rgba(0, 0, 0, 0.15);\n",
              "      filter: drop-shadow(0px 1px 2px rgba(0, 0, 0, 0.3));\n",
              "      fill: #FFFFFF;\n",
              "    }\n",
              "  </style>\n",
              "\n",
              "    <script>\n",
              "      const buttonEl =\n",
              "        document.querySelector('#df-ac78ec1f-8970-454f-aec3-ad4cc4b61473 button.colab-df-convert');\n",
              "      buttonEl.style.display =\n",
              "        google.colab.kernel.accessAllowed ? 'block' : 'none';\n",
              "\n",
              "      async function convertToInteractive(key) {\n",
              "        const element = document.querySelector('#df-ac78ec1f-8970-454f-aec3-ad4cc4b61473');\n",
              "        const dataTable =\n",
              "          await google.colab.kernel.invokeFunction('convertToInteractive',\n",
              "                                                    [key], {});\n",
              "        if (!dataTable) return;\n",
              "\n",
              "        const docLinkHtml = 'Like what you see? Visit the ' +\n",
              "          '<a target=\"_blank\" href=https://colab.research.google.com/notebooks/data_table.ipynb>data table notebook</a>'\n",
              "          + ' to learn more about interactive tables.';\n",
              "        element.innerHTML = '';\n",
              "        dataTable['output_type'] = 'display_data';\n",
              "        await google.colab.output.renderOutput(dataTable, element);\n",
              "        const docLink = document.createElement('div');\n",
              "        docLink.innerHTML = docLinkHtml;\n",
              "        element.appendChild(docLink);\n",
              "      }\n",
              "    </script>\n",
              "  </div>\n",
              "\n",
              "\n",
              "<div id=\"df-d0b5d65e-560d-4a8a-ac66-8434ccd13e41\">\n",
              "  <button class=\"colab-df-quickchart\" onclick=\"quickchart('df-d0b5d65e-560d-4a8a-ac66-8434ccd13e41')\"\n",
              "            title=\"Suggest charts\"\n",
              "            style=\"display:none;\">\n",
              "\n",
              "<svg xmlns=\"http://www.w3.org/2000/svg\" height=\"24px\"viewBox=\"0 0 24 24\"\n",
              "     width=\"24px\">\n",
              "    <g>\n",
              "        <path d=\"M19 3H5c-1.1 0-2 .9-2 2v14c0 1.1.9 2 2 2h14c1.1 0 2-.9 2-2V5c0-1.1-.9-2-2-2zM9 17H7v-7h2v7zm4 0h-2V7h2v10zm4 0h-2v-4h2v4z\"/>\n",
              "    </g>\n",
              "</svg>\n",
              "  </button>\n",
              "\n",
              "<style>\n",
              "  .colab-df-quickchart {\n",
              "      --bg-color: #E8F0FE;\n",
              "      --fill-color: #1967D2;\n",
              "      --hover-bg-color: #E2EBFA;\n",
              "      --hover-fill-color: #174EA6;\n",
              "      --disabled-fill-color: #AAA;\n",
              "      --disabled-bg-color: #DDD;\n",
              "  }\n",
              "\n",
              "  [theme=dark] .colab-df-quickchart {\n",
              "      --bg-color: #3B4455;\n",
              "      --fill-color: #D2E3FC;\n",
              "      --hover-bg-color: #434B5C;\n",
              "      --hover-fill-color: #FFFFFF;\n",
              "      --disabled-bg-color: #3B4455;\n",
              "      --disabled-fill-color: #666;\n",
              "  }\n",
              "\n",
              "  .colab-df-quickchart {\n",
              "    background-color: var(--bg-color);\n",
              "    border: none;\n",
              "    border-radius: 50%;\n",
              "    cursor: pointer;\n",
              "    display: none;\n",
              "    fill: var(--fill-color);\n",
              "    height: 32px;\n",
              "    padding: 0;\n",
              "    width: 32px;\n",
              "  }\n",
              "\n",
              "  .colab-df-quickchart:hover {\n",
              "    background-color: var(--hover-bg-color);\n",
              "    box-shadow: 0 1px 2px rgba(60, 64, 67, 0.3), 0 1px 3px 1px rgba(60, 64, 67, 0.15);\n",
              "    fill: var(--button-hover-fill-color);\n",
              "  }\n",
              "\n",
              "  .colab-df-quickchart-complete:disabled,\n",
              "  .colab-df-quickchart-complete:disabled:hover {\n",
              "    background-color: var(--disabled-bg-color);\n",
              "    fill: var(--disabled-fill-color);\n",
              "    box-shadow: none;\n",
              "  }\n",
              "\n",
              "  .colab-df-spinner {\n",
              "    border: 2px solid var(--fill-color);\n",
              "    border-color: transparent;\n",
              "    border-bottom-color: var(--fill-color);\n",
              "    animation:\n",
              "      spin 1s steps(1) infinite;\n",
              "  }\n",
              "\n",
              "  @keyframes spin {\n",
              "    0% {\n",
              "      border-color: transparent;\n",
              "      border-bottom-color: var(--fill-color);\n",
              "      border-left-color: var(--fill-color);\n",
              "    }\n",
              "    20% {\n",
              "      border-color: transparent;\n",
              "      border-left-color: var(--fill-color);\n",
              "      border-top-color: var(--fill-color);\n",
              "    }\n",
              "    30% {\n",
              "      border-color: transparent;\n",
              "      border-left-color: var(--fill-color);\n",
              "      border-top-color: var(--fill-color);\n",
              "      border-right-color: var(--fill-color);\n",
              "    }\n",
              "    40% {\n",
              "      border-color: transparent;\n",
              "      border-right-color: var(--fill-color);\n",
              "      border-top-color: var(--fill-color);\n",
              "    }\n",
              "    60% {\n",
              "      border-color: transparent;\n",
              "      border-right-color: var(--fill-color);\n",
              "    }\n",
              "    80% {\n",
              "      border-color: transparent;\n",
              "      border-right-color: var(--fill-color);\n",
              "      border-bottom-color: var(--fill-color);\n",
              "    }\n",
              "    90% {\n",
              "      border-color: transparent;\n",
              "      border-bottom-color: var(--fill-color);\n",
              "    }\n",
              "  }\n",
              "</style>\n",
              "\n",
              "  <script>\n",
              "    async function quickchart(key) {\n",
              "      const quickchartButtonEl =\n",
              "        document.querySelector('#' + key + ' button');\n",
              "      quickchartButtonEl.disabled = true;  // To prevent multiple clicks.\n",
              "      quickchartButtonEl.classList.add('colab-df-spinner');\n",
              "      try {\n",
              "        const charts = await google.colab.kernel.invokeFunction(\n",
              "            'suggestCharts', [key], {});\n",
              "      } catch (error) {\n",
              "        console.error('Error during call to suggestCharts:', error);\n",
              "      }\n",
              "      quickchartButtonEl.classList.remove('colab-df-spinner');\n",
              "      quickchartButtonEl.classList.add('colab-df-quickchart-complete');\n",
              "    }\n",
              "    (() => {\n",
              "      let quickchartButtonEl =\n",
              "        document.querySelector('#df-d0b5d65e-560d-4a8a-ac66-8434ccd13e41 button');\n",
              "      quickchartButtonEl.style.display =\n",
              "        google.colab.kernel.accessAllowed ? 'block' : 'none';\n",
              "    })();\n",
              "  </script>\n",
              "</div>\n",
              "\n",
              "    </div>\n",
              "  </div>\n"
            ],
            "application/vnd.google.colaboratory.intrinsic+json": {
              "type": "dataframe",
              "variable_name": "data"
            }
          },
          "metadata": {},
          "execution_count": 11
        }
      ]
    },
    {
      "cell_type": "code",
      "source": [
        "# Converting data to array\n",
        "data = np.array(data)\n",
        "\n",
        "# Getting dimensions of data\n",
        "m, n = data.shape\n",
        "\n",
        "print(f'Number of training examples: {m}\\nNumber of features: {n}')\n",
        "\n",
        "# Splitting data into dev(cross vaildation dat) and training set.[to prevent over fitting]\n",
        "np.random.shuffle(data)\n"
      ],
      "metadata": {
        "colab": {
          "base_uri": "https://localhost:8080/"
        },
        "id": "dF-r3J08LhtX",
        "outputId": "0c8598bf-7d87-4dea-a93b-24a1497cd725"
      },
      "execution_count": 12,
      "outputs": [
        {
          "output_type": "stream",
          "name": "stdout",
          "text": [
            "Number of training examples: 42000\n",
            "Number of features: 785\n"
          ]
        }
      ]
    },
    {
      "cell_type": "code",
      "source": [
        "# Transpose 1st 1000\n",
        "data_dev = data[0:1000].T\n",
        "# 1st row\n",
        "Y_dev = data_dev[0]\n",
        "# nth row\n",
        "X_dev = data_dev[1:n]\n",
        "\n",
        "# Transpose 1st 1000\n",
        "data_train = data[1000:m].T\n",
        "# 1st row\n",
        "Y_train = data_train[0]\n",
        "# nth row\n",
        "X_train = data_train[1:n]"
      ],
      "metadata": {
        "id": "ntQhNMd1Nw_o"
      },
      "execution_count": 13,
      "outputs": []
    },
    {
      "cell_type": "markdown",
      "source": [
        "## Mathematical Implementation\n",
        "\n",
        "\n"
      ],
      "metadata": {
        "id": "PGQLmUppPFI0"
      }
    },
    {
      "cell_type": "code",
      "source": [
        "# Defining functions\n",
        "\n",
        "# Initialising parameters\n",
        "def init_params():\n",
        "  W1 = np.random.rand(10, 784) - 0.5\n",
        "  b1 = np.random.rand(10, 1) - 0.5\n",
        "  W2 = np.random.rand(10, 10) - 0.5\n",
        "  b2 = np.random.rand(10, 1) - 0.5\n",
        "  return W1, b1, W2, b2\n"
      ],
      "metadata": {
        "id": "lctxJB4dPJDj"
      },
      "execution_count": 14,
      "outputs": []
    },
    {
      "cell_type": "markdown",
      "source": [
        "### Activation Functions"
      ],
      "metadata": {
        "id": "KnLzqVFyHF98"
      }
    },
    {
      "cell_type": "code",
      "source": [
        "# Activation functions\n",
        "# ReLU\n",
        "def ReLU(Z):\n",
        "  return np.maximum(Z, 0)\n",
        "\n",
        "# Softmax\n",
        "def softmax(Z):\n",
        "  A = np.exp(Z) / sum(np.exp(Z))\n",
        "  return A\n",
        "\n",
        "\n",
        "\n",
        "# One-hot encoding is a technique in machine learning that turns categorical data, like colors (red, green, blue), into numerical data for machines to understand.\n",
        "def one_hot(Y):\n",
        "  one_hot_Y = np.zeros((Y.size, Y.max() + 1))\n",
        "  one_hot_Y[np.arange(Y.size), Y] = 1\n",
        "  one_hot_Y = one_hot_Y.T\n",
        "  return one_hot_Y\n",
        "\n",
        "def ReLU_deriv(Z):\n",
        "  return Z > 0"
      ],
      "metadata": {
        "id": "D4SZYL47HKVy"
      },
      "execution_count": 15,
      "outputs": []
    },
    {
      "cell_type": "markdown",
      "source": [
        "### Forward Propagation"
      ],
      "metadata": {
        "id": "JDEj_8EjHN1q"
      }
    },
    {
      "cell_type": "code",
      "source": [
        "# Forward propagation\n",
        "def forward_prop(W1, b1, W2, b2, X):\n",
        "  Z1 = W1.dot(X) + b1\n",
        "  A1 = ReLU(Z1)\n",
        "  Z2 = W2.dot(A1) + b2\n",
        "  A2 = softmax(Z2)\n",
        "  return Z1, A1, Z2, A2"
      ],
      "metadata": {
        "id": "lVchvMBPHQ_t"
      },
      "execution_count": 16,
      "outputs": []
    },
    {
      "cell_type": "markdown",
      "source": [
        "### Backward Propagation\n"
      ],
      "metadata": {
        "id": "kSPZ_JguGasi"
      }
    },
    {
      "cell_type": "code",
      "source": [
        "def backward_prop(Z1, A1, Z2, A2, W1, W2, X, Y):\n",
        "  m = Y.size\n",
        "  one_hot_Y = one_hot(Y)\n",
        "  dZ2 = A2 - one_hot_Y\n",
        "  dW2 = 1 / m * dZ2.dot(A1.T)\n",
        "  db2 = 1 / m * np.sum(dZ2)\n",
        "  dZ1 = W2.T.dot(dZ2) * ReLU_deriv(Z1)\n",
        "  dW1 = 1 / m * dZ1.dot(X.T)\n",
        "  db1 = 1 / m * np.sum(dZ1)\n",
        "  return dW1, db1, dW2, db2\n"
      ],
      "metadata": {
        "id": "GW8gx2eEGhBb"
      },
      "execution_count": 25,
      "outputs": []
    },
    {
      "cell_type": "markdown",
      "source": [
        "### Update Parameters"
      ],
      "metadata": {
        "id": "0M1lOsjzJE_C"
      }
    },
    {
      "cell_type": "code",
      "source": [
        "def update_params(W1, b1, W2, b2, dW1, db1, dW2, db2, alpha):\n",
        "  W1 = W1 - alpha * dW1\n",
        "  b1 = b1 - alpha * db1\n",
        "  W2 = W2 - alpha * dW2\n",
        "  b2 = b2 - alpha * db2\n",
        "  return W1, b1, W2, b2"
      ],
      "metadata": {
        "id": "LYI-hbzCJHlM"
      },
      "execution_count": 18,
      "outputs": []
    },
    {
      "cell_type": "markdown",
      "source": [
        "### Gradient Descent"
      ],
      "metadata": {
        "id": "HTnM2j7QJQeD"
      }
    },
    {
      "cell_type": "code",
      "source": [
        "def get_predictions(A2):\n",
        "  return np.argmax(A2, 0)\n",
        "\n",
        "def get_accuracy(predictions, Y):\n",
        "  print(predictions, Y)\n",
        "  return np.sum(predictions == Y) / Y.size\n",
        "\n",
        "def gradient_descent(X, Y, alpha, iterations):\n",
        "    W1, b1, W2, b2 = init_params()\n",
        "    for i in range(iterations):\n",
        "        Z1, A1, Z2, A2 = forward_prop(W1, b1, W2, b2, X)\n",
        "        dW1, db1, dW2, db2 = backward_prop(Z1, A1, Z2, A2, W1, W2, X, Y)\n",
        "        W1, b1, W2, b2 = update_params(W1, b1, W2, b2, dW1, db1, dW2, db2, alpha)\n",
        "        if i % 10 == 0:\n",
        "            print(\"Iteration: \", i)\n",
        "            predictions = get_predictions(A2)\n",
        "            print(get_accuracy(predictions, Y))\n",
        "    return W1, b1, W2, b2"
      ],
      "metadata": {
        "id": "kFzTluE4JSdF"
      },
      "execution_count": 26,
      "outputs": []
    },
    {
      "cell_type": "code",
      "source": [
        "W1, b1, W2, b2 = gradient_descent(X_train, Y_train, 0.10, 500)"
      ],
      "metadata": {
        "colab": {
          "base_uri": "https://localhost:8080/"
        },
        "id": "jE0gRCv1KhWp",
        "outputId": "a7ac1b52-dd14-456a-b021-32968795e0d0"
      },
      "execution_count": 27,
      "outputs": [
        {
          "output_type": "stream",
          "name": "stderr",
          "text": [
            "<ipython-input-15-13567c9c75f2>:8: RuntimeWarning: overflow encountered in exp\n",
            "  A = np.exp(Z) / sum(np.exp(Z))\n",
            "<ipython-input-15-13567c9c75f2>:8: RuntimeWarning: invalid value encountered in divide\n",
            "  A = np.exp(Z) / sum(np.exp(Z))\n"
          ]
        },
        {
          "output_type": "stream",
          "name": "stdout",
          "text": [
            "Iteration:  0\n",
            "[7 6 5 ... 2 0 6] [0 8 6 ... 1 6 1]\n",
            "0.09373170731707317\n",
            "Iteration:  10\n",
            "[0 0 0 ... 0 0 0] [0 8 6 ... 1 6 1]\n",
            "0.0985609756097561\n",
            "Iteration:  20\n",
            "[0 0 0 ... 0 0 0] [0 8 6 ... 1 6 1]\n",
            "0.0985609756097561\n",
            "Iteration:  30\n",
            "[0 0 0 ... 0 0 0] [0 8 6 ... 1 6 1]\n",
            "0.0985609756097561\n",
            "Iteration:  40\n",
            "[0 0 0 ... 0 0 0] [0 8 6 ... 1 6 1]\n",
            "0.0985609756097561\n",
            "Iteration:  50\n",
            "[0 0 0 ... 0 0 0] [0 8 6 ... 1 6 1]\n",
            "0.0985609756097561\n",
            "Iteration:  60\n",
            "[0 0 0 ... 0 0 0] [0 8 6 ... 1 6 1]\n",
            "0.0985609756097561\n",
            "Iteration:  70\n",
            "[0 0 0 ... 0 0 0] [0 8 6 ... 1 6 1]\n",
            "0.0985609756097561\n",
            "Iteration:  80\n",
            "[0 0 0 ... 0 0 0] [0 8 6 ... 1 6 1]\n",
            "0.0985609756097561\n",
            "Iteration:  90\n",
            "[0 0 0 ... 0 0 0] [0 8 6 ... 1 6 1]\n",
            "0.0985609756097561\n",
            "Iteration:  100\n",
            "[0 0 0 ... 0 0 0] [0 8 6 ... 1 6 1]\n",
            "0.0985609756097561\n",
            "Iteration:  110\n",
            "[0 0 0 ... 0 0 0] [0 8 6 ... 1 6 1]\n",
            "0.0985609756097561\n",
            "Iteration:  120\n",
            "[0 0 0 ... 0 0 0] [0 8 6 ... 1 6 1]\n",
            "0.0985609756097561\n",
            "Iteration:  130\n",
            "[0 0 0 ... 0 0 0] [0 8 6 ... 1 6 1]\n",
            "0.0985609756097561\n",
            "Iteration:  140\n",
            "[0 0 0 ... 0 0 0] [0 8 6 ... 1 6 1]\n",
            "0.0985609756097561\n",
            "Iteration:  150\n",
            "[0 0 0 ... 0 0 0] [0 8 6 ... 1 6 1]\n",
            "0.0985609756097561\n",
            "Iteration:  160\n",
            "[0 0 0 ... 0 0 0] [0 8 6 ... 1 6 1]\n",
            "0.0985609756097561\n",
            "Iteration:  170\n",
            "[0 0 0 ... 0 0 0] [0 8 6 ... 1 6 1]\n",
            "0.0985609756097561\n",
            "Iteration:  180\n",
            "[0 0 0 ... 0 0 0] [0 8 6 ... 1 6 1]\n",
            "0.0985609756097561\n",
            "Iteration:  190\n",
            "[0 0 0 ... 0 0 0] [0 8 6 ... 1 6 1]\n",
            "0.0985609756097561\n",
            "Iteration:  200\n",
            "[0 0 0 ... 0 0 0] [0 8 6 ... 1 6 1]\n",
            "0.0985609756097561\n",
            "Iteration:  210\n",
            "[0 0 0 ... 0 0 0] [0 8 6 ... 1 6 1]\n",
            "0.0985609756097561\n",
            "Iteration:  220\n",
            "[0 0 0 ... 0 0 0] [0 8 6 ... 1 6 1]\n",
            "0.0985609756097561\n",
            "Iteration:  230\n",
            "[0 0 0 ... 0 0 0] [0 8 6 ... 1 6 1]\n",
            "0.0985609756097561\n",
            "Iteration:  240\n",
            "[0 0 0 ... 0 0 0] [0 8 6 ... 1 6 1]\n",
            "0.0985609756097561\n",
            "Iteration:  250\n",
            "[0 0 0 ... 0 0 0] [0 8 6 ... 1 6 1]\n",
            "0.0985609756097561\n",
            "Iteration:  260\n",
            "[0 0 0 ... 0 0 0] [0 8 6 ... 1 6 1]\n",
            "0.0985609756097561\n",
            "Iteration:  270\n",
            "[0 0 0 ... 0 0 0] [0 8 6 ... 1 6 1]\n",
            "0.0985609756097561\n",
            "Iteration:  280\n",
            "[0 0 0 ... 0 0 0] [0 8 6 ... 1 6 1]\n",
            "0.0985609756097561\n",
            "Iteration:  290\n",
            "[0 0 0 ... 0 0 0] [0 8 6 ... 1 6 1]\n",
            "0.0985609756097561\n",
            "Iteration:  300\n",
            "[0 0 0 ... 0 0 0] [0 8 6 ... 1 6 1]\n",
            "0.0985609756097561\n",
            "Iteration:  310\n",
            "[0 0 0 ... 0 0 0] [0 8 6 ... 1 6 1]\n",
            "0.0985609756097561\n",
            "Iteration:  320\n",
            "[0 0 0 ... 0 0 0] [0 8 6 ... 1 6 1]\n",
            "0.0985609756097561\n",
            "Iteration:  330\n",
            "[0 0 0 ... 0 0 0] [0 8 6 ... 1 6 1]\n",
            "0.0985609756097561\n",
            "Iteration:  340\n",
            "[0 0 0 ... 0 0 0] [0 8 6 ... 1 6 1]\n",
            "0.0985609756097561\n",
            "Iteration:  350\n",
            "[0 0 0 ... 0 0 0] [0 8 6 ... 1 6 1]\n",
            "0.0985609756097561\n",
            "Iteration:  360\n",
            "[0 0 0 ... 0 0 0] [0 8 6 ... 1 6 1]\n",
            "0.0985609756097561\n",
            "Iteration:  370\n",
            "[0 0 0 ... 0 0 0] [0 8 6 ... 1 6 1]\n",
            "0.0985609756097561\n",
            "Iteration:  380\n",
            "[0 0 0 ... 0 0 0] [0 8 6 ... 1 6 1]\n",
            "0.0985609756097561\n",
            "Iteration:  390\n",
            "[0 0 0 ... 0 0 0] [0 8 6 ... 1 6 1]\n",
            "0.0985609756097561\n",
            "Iteration:  400\n",
            "[0 0 0 ... 0 0 0] [0 8 6 ... 1 6 1]\n",
            "0.0985609756097561\n",
            "Iteration:  410\n",
            "[0 0 0 ... 0 0 0] [0 8 6 ... 1 6 1]\n",
            "0.0985609756097561\n",
            "Iteration:  420\n",
            "[0 0 0 ... 0 0 0] [0 8 6 ... 1 6 1]\n",
            "0.0985609756097561\n",
            "Iteration:  430\n",
            "[0 0 0 ... 0 0 0] [0 8 6 ... 1 6 1]\n",
            "0.0985609756097561\n",
            "Iteration:  440\n",
            "[0 0 0 ... 0 0 0] [0 8 6 ... 1 6 1]\n",
            "0.0985609756097561\n",
            "Iteration:  450\n",
            "[0 0 0 ... 0 0 0] [0 8 6 ... 1 6 1]\n",
            "0.0985609756097561\n",
            "Iteration:  460\n",
            "[0 0 0 ... 0 0 0] [0 8 6 ... 1 6 1]\n",
            "0.0985609756097561\n",
            "Iteration:  470\n",
            "[0 0 0 ... 0 0 0] [0 8 6 ... 1 6 1]\n",
            "0.0985609756097561\n",
            "Iteration:  480\n",
            "[0 0 0 ... 0 0 0] [0 8 6 ... 1 6 1]\n",
            "0.0985609756097561\n",
            "Iteration:  490\n",
            "[0 0 0 ... 0 0 0] [0 8 6 ... 1 6 1]\n",
            "0.0985609756097561\n"
          ]
        }
      ]
    },
    {
      "cell_type": "code",
      "source": [
        "def make_predictions(X, W1, b1, W2, b2):\n",
        "    _, _, _, A2 = forward_prop(W1, b1, W2, b2, X)\n",
        "    predictions = get_predictions(A2)\n",
        "    return predictions\n",
        "\n",
        "\n",
        "def test_prediction(index, W1, b1, W2, b2):\n",
        "    current_image = X_train[:, index, None]\n",
        "    prediction = make_predictions(X_train[:, index, None], W1, b1, W2, b2)\n",
        "    label = Y_train[index]\n",
        "    print(\"Prediction: \", prediction)\n",
        "    print(\"Label: \", label)\n",
        "\n",
        "    current_image = current_image.reshape((28, 28)) * 255\n",
        "    plt.gray()\n",
        "    plt.imshow(current_image, interpolation='nearest')\n",
        "    plt.show()"
      ],
      "metadata": {
        "id": "9WSefsLMMCIR"
      },
      "execution_count": 28,
      "outputs": []
    },
    {
      "cell_type": "code",
      "source": [
        "test_prediction(0, W1, b1, W2, b2)\n",
        "test_prediction(1, W1, b1, W2, b2)\n",
        "test_prediction(2, W1, b1, W2, b2)\n",
        "test_prediction(8, W1, b1, W2, b2)"
      ],
      "metadata": {
        "colab": {
          "base_uri": "https://localhost:8080/",
          "height": 1000
        },
        "id": "YE8U-wJDMVSn",
        "outputId": "b7bce128-f974-46c1-b550-385251f895f9"
      },
      "execution_count": 22,
      "outputs": [
        {
          "output_type": "stream",
          "name": "stdout",
          "text": [
            "Prediction:  [0]\n",
            "Label:  0\n"
          ]
        },
        {
          "output_type": "display_data",
          "data": {
            "text/plain": [
              "<Figure size 640x480 with 1 Axes>"
            ],
            "image/png": "[encoded data removed]"
          },
          "metadata": {}
        },
        {
          "output_type": "stream",
          "name": "stdout",
          "text": [
            "Prediction:  [0]\n",
            "Label:  8\n"
          ]
        },
        {
          "output_type": "display_data",
          "data": {
            "text/plain": [
              "<Figure size 640x480 with 1 Axes>"
            ],
            "image/png": "[encoded data removed]"
          },
          "metadata": {}
        },
        {
          "output_type": "stream",
          "name": "stdout",
          "text": [
            "Prediction:  [0]\n",
            "Label:  6\n"
          ]
        },
        {
          "output_type": "display_data",
          "data": {
            "text/plain": [
              "<Figure size 640x480 with 1 Axes>"
            ],
            "image/png": "[encoded data removed]"
          },
          "metadata": {}
        },
        {
          "output_type": "stream",
          "name": "stdout",
          "text": [
            "Prediction:  [0]\n",
            "Label:  9\n"
          ]
        },
        {
          "output_type": "display_data",
          "data": {
            "text/plain": [
              "<Figure size 640x480 with 1 Axes>"
            ],
            "image/png": "[encoded data removed]"
          },
          "metadata": {}
        }
      ]
    },
    {
      "cell_type": "code",
      "source": [
        "dev_predictions = make_predictions(X_dev, W1, b1, W2, b2)\n",
        "get_accuracy(dev_predictions, Y_dev)"
      ],
      "metadata": {
        "colab": {
          "base_uri": "https://localhost:8080/"
        },
        "id": "PymlrijJMWlQ",
        "outputId": "ec9644ad-11f8-48bd-abd4-ff61f51e458a"
      },
      "execution_count": 23,
      "outputs": [
        {
          "output_type": "stream",
          "name": "stdout",
          "text": [
            "[0 0 0 0 0 0 0 0 0 0 0 0 0 0 0 0 0 0 0 0 0 0 0 0 0 0 0 0 0 0 0 0 0 0 0 0 0\n",
            " 0 0 0 0 0 0 0 0 0 0 0 0 0 0 0 0 0 0 0 0 0 0 0 0 0 0 0 0 0 0 0 0 0 0 0 0 0\n",
            " 0 0 0 0 0 0 0 0 0 0 0 0 0 0 0 0 0 0 0 0 0 0 0 0 0 0 0 0 0 0 0 0 0 0 0 0 0\n",
            " 0 0 0 0 0 0 0 0 0 0 0 0 0 0 0 0 0 0 0 0 0 0 0 0 0 0 0 0 0 0 0 0 0 0 0 0 0\n",
            " 0 0 0 0 0 0 0 0 0 0 0 0 0 0 0 0 0 0 0 0 0 0 0 0 0 0 0 0 0 0 0 0 0 0 0 0 0\n",
            " 0 0 0 0 0 0 0 0 0 0 0 0 0 0 0 0 0 0 0 0 0 0 0 0 0 0 0 0 0 0 0 0 0 0 0 0 0\n",
            " 0 0 0 0 0 0 0 0 0 0 0 0 0 0 0 0 0 0 0 0 0 0 0 0 0 0 0 0 0 0 0 0 0 0 0 0 0\n",
            " 0 0 0 0 0 0 0 0 0 0 0 0 0 0 0 0 0 0 0 0 0 0 0 0 0 0 0 0 0 0 0 0 0 0 0 0 0\n",
            " 0 0 0 0 0 0 0 0 0 0 0 0 0 0 0 0 0 0 0 0 0 0 0 0 0 0 0 0 0 0 0 0 0 0 0 0 0\n",
            " 0 0 0 0 0 0 0 0 0 0 0 0 0 0 0 0 0 0 0 0 0 0 0 0 0 0 0 0 0 0 0 0 0 0 0 0 0\n",
            " 0 0 0 0 0 0 0 0 0 0 0 0 0 0 0 0 0 0 0 0 0 0 0 0 0 0 0 0 0 0 0 0 0 0 0 0 0\n",
            " 0 0 0 0 0 0 0 0 0 0 0 0 0 0 0 0 0 0 0 0 0 0 0 0 0 0 0 0 0 0 0 0 0 0 0 0 0\n",
            " 0 0 0 0 0 0 0 0 0 0 0 0 0 0 0 0 0 0 0 0 0 0 0 0 0 0 0 0 0 0 0 0 0 0 0 0 0\n",
            " 0 0 0 0 0 0 0 0 0 0 0 0 0 0 0 0 0 0 0 0 0 0 0 0 0 0 0 0 0 0 0 0 0 0 0 0 0\n",
            " 0 0 0 0 0 0 0 0 0 0 0 0 0 0 0 0 0 0 0 0 0 0 0 0 0 0 0 0 0 0 0 0 0 0 0 0 0\n",
            " 0 0 0 0 0 0 0 0 0 0 0 0 0 0 0 0 0 0 0 0 0 0 0 0 0 0 0 0 0 0 0 0 0 0 0 0 0\n",
            " 0 0 0 0 0 0 0 0 0 0 0 0 0 0 0 0 0 0 0 0 0 0 0 0 0 0 0 0 0 0 0 0 0 0 0 0 0\n",
            " 0 0 0 0 0 0 0 0 0 0 0 0 0 0 0 0 0 0 0 0 0 0 0 0 0 0 0 0 0 0 0 0 0 0 0 0 0\n",
            " 0 0 0 0 0 0 0 0 0 0 0 0 0 0 0 0 0 0 0 0 0 0 0 0 0 0 0 0 0 0 0 0 0 0 0 0 0\n",
            " 0 0 0 0 0 0 0 0 0 0 0 0 0 0 0 0 0 0 0 0 0 0 0 0 0 0 0 0 0 0 0 0 0 0 0 0 0\n",
            " 0 0 0 0 0 0 0 0 0 0 0 0 0 0 0 0 0 0 0 0 0 0 0 0 0 0 0 0 0 0 0 0 0 0 0 0 0\n",
            " 0 0 0 0 0 0 0 0 0 0 0 0 0 0 0 0 0 0 0 0 0 0 0 0 0 0 0 0 0 0 0 0 0 0 0 0 0\n",
            " 0 0 0 0 0 0 0 0 0 0 0 0 0 0 0 0 0 0 0 0 0 0 0 0 0 0 0 0 0 0 0 0 0 0 0 0 0\n",
            " 0 0 0 0 0 0 0 0 0 0 0 0 0 0 0 0 0 0 0 0 0 0 0 0 0 0 0 0 0 0 0 0 0 0 0 0 0\n",
            " 0 0 0 0 0 0 0 0 0 0 0 0 0 0 0 0 0 0 0 0 0 0 0 0 0 0 0 0 0 0 0 0 0 0 0 0 0\n",
            " 0 0 0 0 0 0 0 0 0 0 0 0 0 0 0 0 0 0 0 0 0 0 0 0 0 0 0 0 0 0 0 0 0 0 0 0 0\n",
            " 0 0 0 0 0 0 0 0 0 0 0 0 0 0 0 0 0 0 0 0 0 0 0 0 0 0 0 0 0 0 0 0 0 0 0 0 0\n",
            " 0] [4 5 0 9 6 6 6 1 4 7 7 0 4 8 4 0 1 8 1 6 8 0 3 0 0 0 6 2 8 7 4 3 0 8 1 8 9\n",
            " 6 3 5 4 0 0 8 1 2 3 7 5 4 2 3 3 7 1 1 5 8 7 8 1 8 1 4 7 4 2 2 0 3 9 4 1 4\n",
            " 0 2 7 5 7 6 1 5 8 6 1 8 6 8 7 3 8 8 5 8 2 9 9 0 5 6 3 3 6 3 4 7 8 0 2 5 7\n",
            " 9 8 4 5 4 6 9 7 8 1 2 9 4 1 9 3 9 7 1 2 3 7 6 0 1 9 5 0 2 0 0 1 1 9 0 6 8\n",
            " 6 9 3 1 1 4 0 7 2 0 6 4 3 7 9 6 6 0 1 7 3 3 0 8 0 8 5 5 8 1 1 1 5 9 2 4 5\n",
            " 4 5 1 9 1 6 9 3 5 5 7 1 8 5 8 9 7 1 9 7 3 5 1 6 9 5 5 2 8 1 4 5 2 8 6 6 9\n",
            " 3 3 3 1 1 2 7 1 8 7 1 6 2 5 3 7 3 5 4 9 3 3 2 4 0 0 4 6 6 7 7 3 3 4 2 9 9\n",
            " 1 7 6 1 9 3 0 0 0 7 2 6 3 4 2 9 1 2 3 3 7 4 7 4 3 9 1 4 9 6 9 5 9 0 2 1 8\n",
            " 5 9 4 4 6 3 2 3 6 2 4 2 4 5 0 5 2 7 4 4 4 2 3 4 6 6 9 6 4 4 5 1 8 5 0 7 1\n",
            " 1 8 6 0 8 0 1 9 9 6 1 5 6 2 9 5 5 3 0 7 3 5 0 5 4 6 0 9 4 9 3 8 1 8 1 7 4\n",
            " 0 1 5 2 7 6 0 1 2 4 4 8 4 9 4 0 6 9 9 9 9 3 8 8 6 0 7 6 6 8 4 5 9 3 8 5 3\n",
            " 7 5 6 6 1 9 9 2 5 1 1 1 4 1 7 6 0 3 7 3 6 7 5 1 2 7 6 1 9 1 5 5 6 3 2 4 9\n",
            " 9 7 3 5 3 1 4 1 0 0 7 2 8 3 4 4 0 8 7 9 4 0 7 1 3 2 3 5 8 6 3 4 3 5 6 5 4\n",
            " 7 9 3 7 2 2 0 2 0 0 5 4 1 4 0 3 9 2 3 6 8 7 7 8 6 2 1 5 2 0 6 7 3 3 1 1 3\n",
            " 6 4 6 3 6 5 4 5 6 1 5 9 6 9 4 2 4 3 7 0 2 2 0 7 3 3 6 6 5 3 3 3 3 8 9 0 4\n",
            " 9 4 7 1 7 5 0 8 3 0 4 0 1 8 3 7 9 7 7 2 0 3 8 9 3 8 8 5 7 9 2 3 1 5 5 3 5\n",
            " 1 9 9 9 4 5 2 8 2 0 0 8 5 5 8 0 3 6 3 2 3 3 1 3 1 6 7 8 9 7 1 4 7 3 6 6 5\n",
            " 1 0 4 9 2 6 4 6 0 8 1 0 6 1 9 6 8 0 4 2 2 0 7 8 9 2 9 9 3 3 4 1 0 3 5 2 6\n",
            " 7 4 2 8 5 9 1 0 5 1 7 3 4 7 1 3 8 4 4 2 0 0 5 3 7 2 5 5 6 7 4 1 1 7 2 4 4\n",
            " 2 6 1 5 8 1 0 4 7 1 2 4 0 2 8 5 7 9 9 7 5 6 7 0 4 5 2 3 8 1 3 3 1 7 6 4 5\n",
            " 2 9 8 4 4 8 7 9 2 9 6 8 2 9 3 3 7 4 9 7 1 3 8 9 2 8 4 4 5 5 2 6 1 7 8 9 9\n",
            " 9 7 6 7 1 8 8 3 4 7 1 2 7 7 3 2 2 2 3 7 1 3 2 2 5 9 0 0 6 3 1 3 7 5 8 4 1\n",
            " 9 6 1 7 7 4 1 1 1 4 7 3 9 6 5 1 0 1 3 8 7 7 9 2 4 3 8 2 3 2 0 0 8 9 8 4 4\n",
            " 7 5 8 1 6 9 2 0 7 4 1 1 5 1 4 0 3 9 1 9 6 7 6 3 4 1 1 7 8 3 2 6 1 2 4 6 4\n",
            " 5 8 7 2 1 9 0 7 8 2 2 1 0 3 7 0 2 5 6 8 0 9 2 8 1 5 9 7 4 0 8 9 5 3 3 5 1\n",
            " 3 9 5 8 1 3 5 8 4 7 7 8 6 3 9 4 2 3 9 7 3 9 0 5 6 3 7 0 1 5 3 2 7 5 6 2 7\n",
            " 4 9 6 8 8 6 5 6 0 9 5 9 4 8 5 3 9 3 6 6 7 0 6 7 0 9 5 6 9 0 4 4 3 3 2 7 8\n",
            " 7]\n"
          ]
        },
        {
          "output_type": "execute_result",
          "data": {
            "text/plain": [
              "0.091"
            ]
          },
          "metadata": {},
          "execution_count": 23
        }
      ]
    }
  ]
}